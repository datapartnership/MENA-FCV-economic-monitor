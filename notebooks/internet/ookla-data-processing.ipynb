{
 "cells": [
  {
   "cell_type": "markdown",
   "id": "ca464d40-4c92-4781-9196-5f3df32a0ce4",
   "metadata": {},
   "source": [
    "# Data Processing\n",
    "## Weighted Average Download Speed at the Country level\n",
    "Using Ookla's opensource dataset we calculate an average download speed weighted by population for each country quarterly from 2019 till 2nd quarter of 2025.\n",
    "\n",
    "## Methodology\n",
    "1. Filter Ookla's data by country. \n",
    "2. Aggregate Ookla's data to the desired zoom level. The zoom level should be smaller than 16 which is the level at which Ookla delivers their data. This step is optional if you want to work with 16 agregation level\n",
    "3. Calculate an average speed for each tile by averaging the speeds at lower level tiles. Tiles with no speed as disregarded from the average\n",
    "4. Aggregate Worldpop data to each tile, this results in an estimate of population at each tile.\n",
    "5. Calculate an average download weighted by population as follows\n",
    "$$\n",
    "WeightedAvgSpeed_{tile_{i}} = \\frac{Pop_{i} * AvgSpeed_{tile_{i}}}{\\sum_{i=1}^{m}Pop_{i}} \n",
    "$$\n"
   ]
  },
  {
   "cell_type": "code",
   "execution_count": 1,
   "id": "50fc2667-0989-4a1f-8e1e-1f72f13a6a0b",
   "metadata": {},
   "outputs": [],
   "source": [
    "import pandas as pd\n",
    "import mercantile\n",
    "from shapely.geometry import box\n",
    "import geopandas as gpd\n",
    "from concurrent.futures import ThreadPoolExecutor, as_completed\n",
    "from concurrent.futures import ProcessPoolExecutor\n",
    "from tqdm import tqdm\n",
    "import rasterio\n",
    "from rasterstats import zonal_stats\n",
    "import glob\n",
    "import numpy as np\n",
    "import seaborn as sns\n",
    "import matplotlib.pyplot as plt\n",
    "from itertools import product\n",
    "import os\n",
    "from shapely import Point"
   ]
  },
  {
   "cell_type": "code",
   "execution_count": 2,
   "id": "a65f4170-203c-4418-b473-34811244ece9",
   "metadata": {},
   "outputs": [],
   "source": [
    "path_data = '/home/sol/gitrepo/MENA-FCV-economic-monitor/data/'\n",
    "zoom = 12\n",
    "net_type = 'fixed'"
   ]
  },
  {
   "cell_type": "code",
   "execution_count": 3,
   "id": "3e11415f-76d2-4049-b8a0-6bffc642b7d0",
   "metadata": {},
   "outputs": [],
   "source": [
    "iso_codes = [\n",
    "    \"afg\", \"are\", \"bhr\", \"dji\", \"dza\", \"egy\", \"irn\", \"irq\", \"jor\", \"kwt\",\n",
    "    \"lbn\", \"lby\", \"mar\", \"omn\", \"pak\", \"pse\", \"qat\", \"sau\", \"syr\", \"tun\", \"yem\"]\n",
    "iso_codes = [x.upper() for x in iso_codes]"
   ]
  },
  {
   "cell_type": "markdown",
   "id": "b3808ec5-e43b-4b4b-9dd0-8353cb9ed8d7",
   "metadata": {
    "jp-MarkdownHeadingCollapsed": true
   },
   "source": [
    "## Obtain Quadkeys for each country"
   ]
  },
  {
   "cell_type": "code",
   "execution_count": 4,
   "id": "322f44bc-c814-42c1-a20a-b2c1bb6f4b74",
   "metadata": {},
   "outputs": [],
   "source": [
    "def tile_to_quadkey(x, y, z):\n",
    "    quadkey = ''\n",
    "    for i in range(z, 0, -1):\n",
    "        digit = 0\n",
    "        mask = 1 << (i - 1)\n",
    "        if (x & mask) != 0:\n",
    "            digit += 1\n",
    "        if (y & mask) != 0:\n",
    "            digit += 2\n",
    "        quadkey += str(digit)\n",
    "    return quadkey"
   ]
  },
  {
   "cell_type": "code",
   "execution_count": 5,
   "id": "958233df-dc6e-42b1-9b4c-892929ada063",
   "metadata": {},
   "outputs": [],
   "source": [
    "def process_tile(tile):\n",
    "    qk = tile_to_quadkey(tile.x, tile.y, tile.z)\n",
    "    geom = box(*mercantile.bounds(tile))\n",
    "    return qk, geom"
   ]
  },
  {
   "cell_type": "code",
   "execution_count": 6,
   "id": "3f146e12-5e0c-4258-851a-111d97481716",
   "metadata": {},
   "outputs": [],
   "source": [
    "def get_quadkeys_bbox_country(geo_data, zoom):\n",
    "    geom = geo_data.geometry\n",
    "    bounds = geom.bounds\n",
    "    tiles = list(mercantile.tiles(bounds[0], bounds[1], bounds[2], bounds[3], zoom))\n",
    "    results = []\n",
    "    with ThreadPoolExecutor(max_workers=8) as executor:\n",
    "        futures = [executor.submit(process_tile, tile) for tile in tiles]\n",
    "        for future in tqdm(as_completed(futures), total=len(futures), desc=\"Processing tiles\"):\n",
    "            results.append(future.result())\n",
    "    df = pd.DataFrame({qk: {\"geometry\": geom} for qk, geom in results}).T\n",
    "    gdf = gpd.GeoDataFrame(df, geometry=\"geometry\", crs=\"EPSG:4326\")\n",
    "    return gdf\n",
    "    \n",
    "def get_quadkeys_country(boundary, zoom):\n",
    "    gdf = get_quadkeys_bbox_country(boundary.loc[0], zoom)\n",
    "    country_quadkeys = gpd.sjoin(gdf, boundary, how='inner', predicate='intersects')\n",
    "    return country_quadkeys[['geometry']]"
   ]
  },
  {
   "cell_type": "markdown",
   "id": "bc978e82-5eee-4053-a2aa-84889c9c2ffc",
   "metadata": {},
   "source": [
    "### Obtain GDF at level 12 per country"
   ]
  },
  {
   "cell_type": "code",
   "execution_count": null,
   "id": "14dd6330-231b-448e-8ef8-3e7ad6e4fc4f",
   "metadata": {},
   "outputs": [
    {
     "name": "stderr",
     "output_type": "stream",
     "text": [
      "Processing tiles: 100%|███████████████| 20955/20955 [00:00<00:00, 158992.70it/s]\n"
     ]
    }
   ],
   "source": [
    "countries_gdf = {}\n",
    "for iso_code in iso_codes: \n",
    "    boundary = gpd.read_file(path_data + f'admin_boundaries/{iso_code}_ADM0_gbOpen.geojson')\n",
    "    gdf = get_quadkeys_country(boundary, zoom)\n",
    "    countries_gdf[iso_code] = gdf\n",
    "    gdf.to_file(f'../results/gdf_{iso_code}.gpkg')"
   ]
  },
  {
   "cell_type": "markdown",
   "id": "edfbb7dc-f438-416e-99d3-f25b0cedf5b3",
   "metadata": {},
   "source": [
    "### Obtain Quadkeys level 16 per country to filter Ookla's data"
   ]
  },
  {
   "cell_type": "code",
   "execution_count": 4,
   "id": "a607f268-ce2f-403e-8e1a-e9e4070b5880",
   "metadata": {},
   "outputs": [],
   "source": [
    "zoom_internet = 16"
   ]
  },
  {
   "cell_type": "code",
   "execution_count": 5,
   "id": "0208177b-dba5-4868-8e3a-742fb2bd9ad8",
   "metadata": {},
   "outputs": [],
   "source": [
    "def get_subquadkeys(quadkey, target_level):\n",
    "    \"\"\"Return all quadkeys at target_level within the given quadkey\"\"\"\n",
    "    delta = target_level - len(quadkey)\n",
    "    if delta < 0:\n",
    "        raise ValueError(\"Target level must be greater than or equal to the current quadkey level\")\n",
    "    sub_quadkeys = []\n",
    "    for suffix in product('0123', repeat=delta):\n",
    "        sub_quadkeys.append(quadkey + ''.join(suffix))\n",
    "    return sub_quadkeys"
   ]
  },
  {
   "cell_type": "code",
   "execution_count": 6,
   "id": "5b088818-b4dd-4663-bbfe-d8e328994bc0",
   "metadata": {},
   "outputs": [],
   "source": [
    "def get_all_childquadkeys(parent_quadkeys, target_level):\n",
    "    child_quadkeys = []\n",
    "    for parent_qk in parent_quadkeys:\n",
    "        sub_qks = get_subquadkeys(parent_qk, target_level)\n",
    "        child_quadkeys+=sub_qks\n",
    "    return child_quadkeys"
   ]
  },
  {
   "cell_type": "code",
   "execution_count": 7,
   "id": "dcc52730-1a9a-452d-85cb-a655bd7fbaa1",
   "metadata": {},
   "outputs": [],
   "source": [
    "def quadkey_to_centroid(quadkey):\n",
    "    tile = mercantile.quadkey_to_tile(quadkey)\n",
    "    bounds = mercantile.bounds(tile)\n",
    "    lon = (bounds.west + bounds.east) / 2\n",
    "    lat = (bounds.south + bounds.north) / 2\n",
    "    return Point(lon, lat)"
   ]
  },
  {
   "cell_type": "code",
   "execution_count": 8,
   "id": "c7b89f54-8331-4f84-afa7-2b9c333fc6cd",
   "metadata": {},
   "outputs": [],
   "source": [
    "def filter_quadkeys_country(iso_code):\n",
    "    tiles = gpd.read_file(f'../results/gdf_{iso_code}.gpkg')\n",
    "    child_quadkeys = get_all_childquadkeys(tiles['index'].tolist(), 16)\n",
    "    gdf = gpd.GeoDataFrame({\n",
    "        'quadkey': child_quadkeys,\n",
    "        'geometry': [quadkey_to_centroid(qk) for qk in child_quadkeys]\n",
    "        }, crs=\"EPSG:4326\") \n",
    "    boundary = gpd.read_file(path_data + f'admin_boundaries/{iso_code}_ADM0_gbOpen.geojson')\n",
    "    country_quadkeys = gpd.sjoin(gdf, boundary, how='inner', predicate='within')\n",
    "    df_qks = pd.DataFrame(index = [], columns = [])\n",
    "    df_qks['quadkey'] = country_quadkeys.quadkey.tolist()\n",
    "    df_qks['country'] = iso_code\n",
    "    return df_qks"
   ]
  },
  {
   "cell_type": "code",
   "execution_count": 9,
   "id": "5ffa324f-e8f2-4c86-98c9-499a85831552",
   "metadata": {},
   "outputs": [],
   "source": [
    "with ProcessPoolExecutor() as executor:\n",
    "    results = executor.map(filter_quadkeys_country, iso_codes)    \n",
    "\n",
    "ookla_qks = []\n",
    "for df_qks in results:\n",
    "    ookla_qks.append(df_qks)\n",
    "pd.concat(ookla_qks).to_csv('../results/quadkeys_per_country.csv')"
   ]
  },
  {
   "cell_type": "markdown",
   "id": "b1b9f49c-16ab-4aa3-9aa4-86e335916991",
   "metadata": {},
   "source": [
    "## Obtain Ookla + Worldpop data by country"
   ]
  },
  {
   "cell_type": "markdown",
   "id": "5011eca8-0a55-4326-b848-8843ecb4d988",
   "metadata": {
    "jp-MarkdownHeadingCollapsed": true
   },
   "source": [
    "### Aggregate WorldPop at Grid level"
   ]
  },
  {
   "cell_type": "code",
   "execution_count": 8,
   "id": "e4ee8a9e-6178-447f-91c3-e1fdb1908e48",
   "metadata": {},
   "outputs": [
    {
     "name": "stdout",
     "output_type": "stream",
     "text": [
      "/home/sol/gitrepo/MENA-FCV-economic-monitor/data/worldpop/bhr_ppp_2020_UNadj_constrained.tif\n",
      "/home/sol/gitrepo/MENA-FCV-economic-monitor/data/worldpop/dji_ppp_2020_UNadj_constrained.tif/home/sol/gitrepo/MENA-FCV-economic-monitor/data/worldpop/are_ppp_2020_UNadj_constrained.tif\n",
      "\n",
      "/home/sol/gitrepo/MENA-FCV-economic-monitor/data/worldpop/afg_ppp_2020_UNadj_constrained.tif\n",
      "/home/sol/gitrepo/MENA-FCV-economic-monitor/data/worldpop/irq_ppp_2020_UNadj_constrained.tif\n",
      "/home/sol/gitrepo/MENA-FCV-economic-monitor/data/worldpop/jor_ppp_2020_UNadj_constrained.tif\n",
      "/home/sol/gitrepo/MENA-FCV-economic-monitor/data/worldpop/dza_ppp_2020_UNadj_constrained.tif\n",
      "/home/sol/gitrepo/MENA-FCV-economic-monitor/data/worldpop/egy_ppp_2020_UNadj_constrained.tif\n",
      "/home/sol/gitrepo/MENA-FCV-economic-monitor/data/worldpop/irn_ppp_2020_UNadj_constrained.tif\n",
      "/home/sol/gitrepo/MENA-FCV-economic-monitor/data/worldpop/kwt_ppp_2020_UNadj_constrained.tif\n",
      "/home/sol/gitrepo/MENA-FCV-economic-monitor/data/worldpop/lbn_ppp_2020_UNadj_constrained.tif\n",
      "/home/sol/gitrepo/MENA-FCV-economic-monitor/data/worldpop/lby_ppp_2020_UNadj_constrained.tif\n",
      "/home/sol/gitrepo/MENA-FCV-economic-monitor/data/worldpop/mar_ppp_2020_UNadj_constrained.tif\n",
      "/home/sol/gitrepo/MENA-FCV-economic-monitor/data/worldpop/omn_ppp_2020_UNadj_constrained.tif\n",
      "/home/sol/gitrepo/MENA-FCV-economic-monitor/data/worldpop/pak_ppp_2020_UNadj_constrained.tif\n",
      "/home/sol/gitrepo/MENA-FCV-economic-monitor/data/worldpop/pse_ppp_2020_UNadj_constrained.tif\n",
      "/home/sol/gitrepo/MENA-FCV-economic-monitor/data/worldpop/qat_ppp_2020_UNadj_constrained.tif\n",
      "/home/sol/gitrepo/MENA-FCV-economic-monitor/data/worldpop/sau_ppp_2020_UNadj_constrained.tif\n",
      "/home/sol/gitrepo/MENA-FCV-economic-monitor/data/worldpop/syr_ppp_2020_UNadj_constrained.tif\n",
      "/home/sol/gitrepo/MENA-FCV-economic-monitor/data/worldpop/tun_ppp_2020_UNadj_constrained.tif\n",
      "/home/sol/gitrepo/MENA-FCV-economic-monitor/data/worldpop/yem_ppp_2020_UNadj_constrained.tif\n"
     ]
    }
   ],
   "source": [
    "def process_country(args):\n",
    "    country, gdf, path_data = args\n",
    "    try:\n",
    "        path_raster = path_data + f'worldpop/{country.lower()}_ppp_2020_UNadj_constrained.tif'\n",
    "        print(path_raster)\n",
    "        raster_stats = zonal_stats(gdf, path_raster, stats=['sum'])\n",
    "        pop_by_quadkey = [elem['sum'] if elem['sum'] is not None else 0 for elem in raster_stats]\n",
    "        gdf['population'] = pop_by_quadkey\n",
    "        return country, gdf\n",
    "    except Exception as e:\n",
    "        print(f'error processing {country}: {e}')\n",
    "        traceback.print_exc()\n",
    "        return country, None\n",
    "    \n",
    "inputs = [(country, gdf, path_data) for country, gdf in countries_gdf.items()]\n",
    "with ProcessPoolExecutor() as executor:\n",
    "    results = executor.map(process_country, inputs)\n",
    "\n",
    "for country, gdf in results:\n",
    "    countries_gdf[country] = gdf\n",
    "    gdf.to_file(f'../results/gdf_{country}.gpkg')"
   ]
  },
  {
   "cell_type": "markdown",
   "id": "c33177a8-c0c9-4833-a12a-445f5b2ab5ad",
   "metadata": {},
   "source": [
    "### Aggregate Internet results at the Grid level"
   ]
  },
  {
   "cell_type": "markdown",
   "id": "d9636997-b56f-453f-a810-3b8f00640a19",
   "metadata": {},
   "source": [
    "### Data Processing"
   ]
  },
  {
   "cell_type": "code",
   "execution_count": 4,
   "id": "a9d491e2-467b-4667-8e44-f9bf42e399c2",
   "metadata": {},
   "outputs": [],
   "source": [
    "countries_gdf = {}\n",
    "for iso_code in iso_codes:\n",
    "    gdf=gpd.read_file(f'../results/gdf_{iso_code}.gpkg')\n",
    "    gdf.set_index('index', inplace = True)\n",
    "    countries_gdf[iso_code] = gdf"
   ]
  },
  {
   "cell_type": "code",
   "execution_count": 5,
   "id": "b915a077-3172-48b4-b251-e6d8097b6971",
   "metadata": {},
   "outputs": [],
   "source": [
    "net_type = 'fixed'"
   ]
  },
  {
   "cell_type": "code",
   "execution_count": 6,
   "id": "72ed2419-0ddc-44e5-9c3f-336a6b27aa3b",
   "metadata": {},
   "outputs": [],
   "source": [
    "countries_quadkeys = pd.read_csv('../results/quadkeys_per_country.csv', dtype = {'quadkey': 'str'})\n",
    "countries_qk_dict = {}\n",
    "for iso_code in iso_codes:\n",
    "    countries_qk_dict[iso_code] = countries_quadkeys[countries_quadkeys['country']==iso_code].quadkey.tolist()"
   ]
  },
  {
   "cell_type": "code",
   "execution_count": 4,
   "id": "8b2916db-2de0-4370-a380-498ba7ebf623",
   "metadata": {},
   "outputs": [],
   "source": [
    "for year in range(2019, 2026):\n",
    "    for quarter in range(1, 5):\n",
    "        if (quarter > 2) & (year == 2025):\n",
    "            continue\n",
    "        path = path_data + f'type={net_type}/year={year}/quarter={quarter}/'\n",
    "        df = pd.read_parquet(path, engine=\"pyarrow\")\n",
    "        df[f'quadkey_z{zoom}'] = df['quadkey'].apply(lambda x: x[:zoom])\n",
    "        for country, gdf in countries_gdf.items():\n",
    "            country_quadkeys = countries_qk_dict[country]\n",
    "            df_country = df[df['quadkey'].isin(country_quadkeys)].copy()\n",
    "            avg_download_speed = df_country.groupby(f'quadkey_z{zoom}')['avg_d_kbps'].mean()\n",
    "            gdf[f'avg_download_{year}_{quarter}'] = avg_download_speed\n",
    "            countries_gdf[country] = gdf\n",
    "            gdf.to_file(f'../results/gdf_{country}_with_variables.gpkg')\n"
   ]
  },
  {
   "cell_type": "code",
   "execution_count": null,
   "id": "8b4b37f2-8692-4d7d-950c-44b526c7ee8b",
   "metadata": {},
   "outputs": [],
   "source": []
  }
 ],
 "metadata": {
  "kernelspec": {
   "display_name": "venv",
   "language": "python",
   "name": "venv"
  },
  "language_info": {
   "codemirror_mode": {
    "name": "ipython",
    "version": 3
   },
   "file_extension": ".py",
   "mimetype": "text/x-python",
   "name": "python",
   "nbconvert_exporter": "python",
   "pygments_lexer": "ipython3",
   "version": "3.10.12"
  }
 },
 "nbformat": 4,
 "nbformat_minor": 5
}
