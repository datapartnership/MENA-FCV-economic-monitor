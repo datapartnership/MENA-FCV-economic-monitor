{
 "cells": [
  {
   "cell_type": "markdown",
   "id": "248fd77a",
   "metadata": {},
   "source": [
    "# Conflict and Migration"
   ]
  },
  {
   "cell_type": "code",
   "execution_count": null,
   "id": "484480c2",
   "metadata": {},
   "outputs": [
    {
     "ename": "",
     "evalue": "",
     "output_type": "error",
     "traceback": [
      "\u001b[1;31mFailed to start the Kernel. \n",
      "\u001b[1;31mUnable to start Kernel 'acled (Python 3.11.11)' due to a timeout waiting for the ports to get used. \n",
      "\u001b[1;31mView Jupyter <a href='command:jupyter.viewOutput'>log</a> for further details."
     ]
    }
   ],
   "source": [
    "import pandas as pd \n",
    "import matplotlib.pyplot as plt \n",
    "import numpy as np \n",
    "import geopandas as gpd"
   ]
  },
  {
   "cell_type": "code",
   "execution_count": null,
   "id": "b5428f44",
   "metadata": {},
   "outputs": [],
   "source": [
    "conflict = pd.read_csv('../../data/conflict/conflict_national_events_monthly_20250723.csv')"
   ]
  }
 ],
 "metadata": {
  "kernelspec": {
   "display_name": "acled",
   "language": "python",
   "name": "python3"
  },
  "language_info": {
   "name": "python",
   "version": "3.11.11"
  }
 },
 "nbformat": 4,
 "nbformat_minor": 5
}
